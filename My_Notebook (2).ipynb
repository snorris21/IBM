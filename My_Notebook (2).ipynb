{
 "cells": [
  {
   "cell_type": "markdown",
   "id": "fcb68930-906f-48bf-9678-bafbf554257b",
   "metadata": {},
   "source": [
    "https://www.cognitiveclass.ai/"
   ]
  },
  {
   "cell_type": "code",
   "execution_count": null,
   "id": "4c355e44-3868-438b-8352-7469df719090",
   "metadata": {},
   "outputs": [],
   "source": [
    "# Header1\n"
   ]
  },
  {
   "cell_type": "markdown",
   "id": "b3d0ffba-43dc-451c-9315-be4dbecc4e09",
   "metadata": {},
   "source": [
    "# H1\n",
    "## H2\n",
    "### H3\n",
    "#### H4\n",
    "##### H5\n",
    "###### H6\n",
    "\n",
    "Alternatively, for H1 and H2, an underline-ish style:\n",
    "\n",
    "Alt-H1\n",
    "======\n",
    "\n",
    "Alt-H2\n",
    "------"
   ]
  },
  {
   "cell_type": "markdown",
   "id": "4ad151a8-469d-431d-8fce-88bfbc2a8f5f",
   "metadata": {},
   "source": [
    "| header | header |\n",
    "| ------ | ------ |\n",
    "| cell | cell |"
   ]
  },
  {
   "cell_type": "code",
   "execution_count": null,
   "id": "f68be2e3-87ac-416c-9d10-ad4352d09b33",
   "metadata": {},
   "outputs": [],
   "source": []
  },
  {
   "cell_type": "code",
   "execution_count": null,
   "id": "bc9183c6-7124-40bf-a567-46022437e913",
   "metadata": {},
   "outputs": [],
   "source": []
  }
 ],
 "metadata": {
  "kernelspec": {
   "display_name": "Python",
   "language": "python",
   "name": "conda-env-python-py"
  },
  "language_info": {
   "codemirror_mode": {
    "name": "ipython",
    "version": 3
   },
   "file_extension": ".py",
   "mimetype": "text/x-python",
   "name": "python",
   "nbconvert_exporter": "python",
   "pygments_lexer": "ipython3",
   "version": "3.6.13"
  }
 },
 "nbformat": 4,
 "nbformat_minor": 5
}
